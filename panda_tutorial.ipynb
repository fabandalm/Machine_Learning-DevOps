{
  "nbformat": 4,
  "nbformat_minor": 0,
  "metadata": {
    "colab": {
      "name": "panda-tutorial.ipynb",
      "provenance": [],
      "collapsed_sections": [],
      "authorship_tag": "ABX9TyMKacpUVqZLcZMMzfzq46Lr",
      "include_colab_link": true
    },
    "kernelspec": {
      "name": "python3",
      "display_name": "Python 3"
    },
    "language_info": {
      "name": "python"
    }
  },
  "cells": [
    {
      "cell_type": "markdown",
      "metadata": {
        "id": "view-in-github",
        "colab_type": "text"
      },
      "source": [
        "<a href=\"https://colab.research.google.com/github/falmeida-tech/Machine_Learning-DevOps/blob/main/panda_tutorial.ipynb\" target=\"_parent\"><img src=\"https://colab.research.google.com/assets/colab-badge.svg\" alt=\"Open In Colab\"/></a>"
      ]
    },
    {
      "cell_type": "code",
      "metadata": {
        "colab": {
          "base_uri": "https://localhost:8080/"
        },
        "id": "BKfVHwGZUsPY",
        "outputId": "8709a3e6-1c31-4817-d8f2-d224ee6df63e"
      },
      "source": [
        "import pandas as pd\n",
        "\n",
        "s = pd.Series([3,-5,7,4],index=['a','b','c','d'])\n",
        "print(s)\n"
      ],
      "execution_count": 9,
      "outputs": [
        {
          "output_type": "stream",
          "name": "stdout",
          "text": [
            "a    3\n",
            "b   -5\n",
            "c    7\n",
            "d    4\n",
            "dtype: int64\n"
          ]
        }
      ]
    },
    {
      "cell_type": "code",
      "metadata": {
        "colab": {
          "base_uri": "https://localhost:8080/"
        },
        "id": "ZbHTzEwDVvdo",
        "outputId": "3f2142cc-5a8b-44a3-ef8d-6e7eb3db0dff"
      },
      "source": [
        "import pandas as pd\n",
        "\n",
        "item = ['Computer', 'Printer', 'Tablet', 'Desk', 'Chair']\n",
        "my_series = pd.Series(item)\n",
        "\n",
        "print(my_series)\n",
        "print(type(my_series))"
      ],
      "execution_count": 6,
      "outputs": [
        {
          "output_type": "stream",
          "name": "stdout",
          "text": [
            "0    Computer\n",
            "1     Printer\n",
            "2      Tablet\n",
            "3        Desk\n",
            "4       Chair\n",
            "dtype: object\n",
            "<class 'pandas.core.series.Series'>\n"
          ]
        }
      ]
    },
    {
      "cell_type": "code",
      "metadata": {
        "colab": {
          "base_uri": "https://localhost:8080/"
        },
        "id": "tBUNiePOV1fv",
        "outputId": "ab47a334-ee89-402e-d474-3d6bea3c1a6d"
      },
      "source": [
        "import pandas as pd\n",
        "\n",
        "item = ['Computer', 'Printer', 'Tablet', 'Desk', 'Chair']\n",
        "my_series = pd.Series(item)\n",
        "\n",
        "df = my_series.to_frame()\n",
        "\n",
        "print(df)\n",
        "print(type(df))"
      ],
      "execution_count": 7,
      "outputs": [
        {
          "output_type": "stream",
          "name": "stdout",
          "text": [
            "          0\n",
            "0  Computer\n",
            "1   Printer\n",
            "2    Tablet\n",
            "3      Desk\n",
            "4     Chair\n",
            "<class 'pandas.core.frame.DataFrame'>\n"
          ]
        }
      ]
    },
    {
      "cell_type": "code",
      "metadata": {
        "colab": {
          "base_uri": "https://localhost:8080/"
        },
        "id": "FbhKQS9NWB_a",
        "outputId": "ac56652e-6402-4b3b-dfa2-7c0728594f7e"
      },
      "source": [
        "# importing pandas as pd\n",
        "import pandas as pd\n",
        "\n",
        "# Creating the Series\n",
        "sr = pd.Series([19.5, 16.8, 22.78, 20.124, 18.1002])\n",
        "\n",
        "# Print the series\n",
        "print(sr)\n"
      ],
      "execution_count": 8,
      "outputs": [
        {
          "output_type": "stream",
          "name": "stdout",
          "text": [
            "0    19.5000\n",
            "1    16.8000\n",
            "2    22.7800\n",
            "3    20.1240\n",
            "4    18.1002\n",
            "dtype: float64\n"
          ]
        }
      ]
    }
  ]
}