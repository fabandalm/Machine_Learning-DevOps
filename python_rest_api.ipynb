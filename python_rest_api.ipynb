{
  "nbformat": 4,
  "nbformat_minor": 0,
  "metadata": {
    "colab": {
      "name": "python-rest-api.ipynb",
      "provenance": [],
      "authorship_tag": "ABX9TyOv+WNedCWWU3xjdyZgyYj1",
      "include_colab_link": true
    },
    "kernelspec": {
      "name": "python3",
      "display_name": "Python 3"
    },
    "language_info": {
      "name": "python"
    }
  },
  "cells": [
    {
      "cell_type": "markdown",
      "metadata": {
        "id": "view-in-github",
        "colab_type": "text"
      },
      "source": [
        "<a href=\"https://colab.research.google.com/github/falmeida-tech/Machine_Learning-DevOps/blob/main/python_rest_api.ipynb\" target=\"_parent\"><img src=\"https://colab.research.google.com/assets/colab-badge.svg\" alt=\"Open In Colab\"/></a>"
      ]
    },
    {
      "cell_type": "code",
      "metadata": {
        "id": "ExhDP2PbYIMl",
        "outputId": "59de516c-d39a-4f78-97df-453f789900ab",
        "colab": {
          "base_uri": "https://localhost:8080/"
        }
      },
      "source": [
        "import requests\n",
        "api_url = \"https://jsonplaceholder.typicode.com/todos/1\"\n",
        "response = requests.get(api_url)\n",
        "response.json()"
      ],
      "execution_count": 1,
      "outputs": [
        {
          "output_type": "execute_result",
          "data": {
            "text/plain": [
              "{'completed': False, 'id': 1, 'title': 'delectus aut autem', 'userId': 1}"
            ]
          },
          "metadata": {},
          "execution_count": 1
        }
      ]
    }
  ]
}