{
  "nbformat": 4,
  "nbformat_minor": 0,
  "metadata": {
    "colab": {
      "name": "std-deviation.ipynb",
      "provenance": [],
      "authorship_tag": "ABX9TyOIHuEq/W4N7vo6qdhGjI3W",
      "include_colab_link": true
    },
    "kernelspec": {
      "name": "python3",
      "display_name": "Python 3"
    },
    "language_info": {
      "name": "python"
    }
  },
  "cells": [
    {
      "cell_type": "markdown",
      "metadata": {
        "id": "view-in-github",
        "colab_type": "text"
      },
      "source": [
        "<a href=\"https://colab.research.google.com/github/falmeida-tech/Machine_Learning-DevOps/blob/main/std_deviation.ipynb\" target=\"_parent\"><img src=\"https://colab.research.google.com/assets/colab-badge.svg\" alt=\"Open In Colab\"/></a>"
      ]
    },
    {
      "cell_type": "code",
      "metadata": {
        "colab": {
          "base_uri": "https://localhost:8080/",
          "height": 282
        },
        "id": "lJKwh07ucMkP",
        "outputId": "f734ecb4-c27f-43cd-e2d8-a8ff027ebf18"
      },
      "source": [
        "import numpy as np\n",
        "import matplotlib.pyplot as plt\n",
        "\n",
        "incomes = np.random.normal(100,10,1000)\n",
        "plt.hist(incomes,50)\n",
        "plt.show()\n"
      ],
      "execution_count": 4,
      "outputs": [
        {
          "output_type": "display_data",
          "data": {
            "image/png": "[encoded data removed]",
            "text/plain": [
              "<Figure size 432x288 with 1 Axes>"
            ]
          },
          "metadata": {
            "needs_background": "light"
          }
        },
        {
          "output_type": "execute_result",
          "data": {
            "text/plain": [
              "99.05522757317111"
            ]
          },
          "metadata": {},
          "execution_count": 4
        }
      ]
    },
    {
      "cell_type": "code",
      "metadata": {
        "id": "ZJ9a-X8ZeM-R",
        "outputId": "4785fdc7-dd22-4b84-8b5b-daa4cf7986b4",
        "colab": {
          "base_uri": "https://localhost:8080/"
        }
      },
      "source": [
        "incomes.std()"
      ],
      "execution_count": 6,
      "outputs": [
        {
          "output_type": "execute_result",
          "data": {
            "text/plain": [
              "9.952649274096375"
            ]
          },
          "metadata": {},
          "execution_count": 6
        }
      ]
    },
    {
      "cell_type": "code",
      "metadata": {
        "id": "h9RIO_kJeV9J",
        "outputId": "8e2bdfe0-f8ad-45f3-954c-47243d6abacc",
        "colab": {
          "base_uri": "https://localhost:8080/"
        }
      },
      "source": [
        "incomes.var()"
      ],
      "execution_count": 7,
      "outputs": [
        {
          "output_type": "execute_result",
          "data": {
            "text/plain": [
              "99.05522757317111"
            ]
          },
          "metadata": {},
          "execution_count": 7
        }
      ]
    }
  ]
}